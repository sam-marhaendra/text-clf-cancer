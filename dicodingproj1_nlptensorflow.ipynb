{
  "cells": [
    {
      "cell_type": "markdown",
      "source": [
        "# **Dicoding Submission - Proyek Pertama : Membuat Model NLP dengan TensorFlow**"
      ],
      "metadata": {
        "id": "MmRl_WMttp5C"
      }
    },
    {
      "cell_type": "markdown",
      "source": [
        "**Samatha Marhaendra Putra**\n",
        "\n",
        "Data Source: https://www.kaggle.com/datasets/falgunipatel19/biomedical-text-publication-classification"
      ],
      "metadata": {
        "id": "UvRNOyCWt5zO"
      }
    },
    {
      "cell_type": "code",
      "execution_count": 1,
      "metadata": {
        "colab": {
          "base_uri": "https://localhost:8080/"
        },
        "id": "09JMMKMygQ3l",
        "outputId": "31ecfa1e-2fb3-42df-dc41-99f11f8ffd8e"
      },
      "outputs": [
        {
          "output_type": "stream",
          "name": "stdout",
          "text": [
            "Looking in indexes: https://pypi.org/simple, https://us-python.pkg.dev/colab-wheels/public/simple/\n",
            "Requirement already satisfied: kaggle in /usr/local/lib/python3.7/dist-packages (1.5.12)\n",
            "Requirement already satisfied: urllib3 in /usr/local/lib/python3.7/dist-packages (from kaggle) (1.24.3)\n",
            "Requirement already satisfied: six>=1.10 in /usr/local/lib/python3.7/dist-packages (from kaggle) (1.15.0)\n",
            "Requirement already satisfied: certifi in /usr/local/lib/python3.7/dist-packages (from kaggle) (2022.6.15)\n",
            "Requirement already satisfied: tqdm in /usr/local/lib/python3.7/dist-packages (from kaggle) (4.64.1)\n",
            "Requirement already satisfied: python-dateutil in /usr/local/lib/python3.7/dist-packages (from kaggle) (2.8.2)\n",
            "Requirement already satisfied: requests in /usr/local/lib/python3.7/dist-packages (from kaggle) (2.23.0)\n",
            "Requirement already satisfied: python-slugify in /usr/local/lib/python3.7/dist-packages (from kaggle) (6.1.2)\n",
            "Requirement already satisfied: text-unidecode>=1.3 in /usr/local/lib/python3.7/dist-packages (from python-slugify->kaggle) (1.3)\n",
            "Requirement already satisfied: chardet<4,>=3.0.2 in /usr/local/lib/python3.7/dist-packages (from requests->kaggle) (3.0.4)\n",
            "Requirement already satisfied: idna<3,>=2.5 in /usr/local/lib/python3.7/dist-packages (from requests->kaggle) (2.10)\n"
          ]
        }
      ],
      "source": [
        "!pip install kaggle"
      ]
    },
    {
      "cell_type": "code",
      "source": [
        "!mkdir ~/.kaggle"
      ],
      "metadata": {
        "id": "7f3SYXJiJy32"
      },
      "execution_count": 2,
      "outputs": []
    },
    {
      "cell_type": "code",
      "source": [
        "!cp kaggle.json ~/.kaggle/"
      ],
      "metadata": {
        "id": "sDRBbSo7J0uW"
      },
      "execution_count": 3,
      "outputs": []
    },
    {
      "cell_type": "code",
      "source": [
        "!chmod 600 ~/.kaggle/kaggle.json"
      ],
      "metadata": {
        "id": "4MIhAHOsJ3cG"
      },
      "execution_count": 4,
      "outputs": []
    },
    {
      "cell_type": "code",
      "source": [
        "!kaggle datasets download -d falgunipatel19/biomedical-text-publication-classification"
      ],
      "metadata": {
        "colab": {
          "base_uri": "https://localhost:8080/"
        },
        "id": "dk48sr23J6RF",
        "outputId": "b43e0c6d-2cf1-4db2-da50-392feb09edfe"
      },
      "execution_count": 5,
      "outputs": [
        {
          "output_type": "stream",
          "name": "stdout",
          "text": [
            "Downloading biomedical-text-publication-classification.zip to /content\n",
            "100% 55.9M/55.9M [00:00<00:00, 110MB/s] \n",
            "100% 55.9M/55.9M [00:00<00:00, 98.8MB/s]\n"
          ]
        }
      ]
    },
    {
      "cell_type": "code",
      "source": [
        "!unzip /content/biomedical-text-publication-classification.zip"
      ],
      "metadata": {
        "colab": {
          "base_uri": "https://localhost:8080/"
        },
        "id": "se7YVangKA8f",
        "outputId": "a9b00aa6-141b-43ad-87e3-a3fbbc989db3"
      },
      "execution_count": 6,
      "outputs": [
        {
          "output_type": "stream",
          "name": "stdout",
          "text": [
            "Archive:  /content/biomedical-text-publication-classification.zip\n",
            "  inflating: alldata_1_for_kaggle.csv  \n"
          ]
        }
      ]
    },
    {
      "cell_type": "code",
      "source": [
        "import pandas as pd\n",
        "import numpy as np"
      ],
      "metadata": {
        "id": "soViYQpQKK0D"
      },
      "execution_count": 7,
      "outputs": []
    },
    {
      "cell_type": "code",
      "source": [
        "df = pd.read_csv('/content/alldata_1_for_kaggle.csv', encoding='latin-1')"
      ],
      "metadata": {
        "id": "pICFgraeKQuB"
      },
      "execution_count": 8,
      "outputs": []
    },
    {
      "cell_type": "code",
      "source": [
        "df.head()"
      ],
      "metadata": {
        "colab": {
          "base_uri": "https://localhost:8080/",
          "height": 206
        },
        "id": "0nB0rK5lKSYZ",
        "outputId": "44d70f9d-9538-40ba-97c0-3e487c3a233a"
      },
      "execution_count": 9,
      "outputs": [
        {
          "output_type": "execute_result",
          "data": {
            "text/plain": [
              "   Unnamed: 0               0  \\\n",
              "0           0  Thyroid_Cancer   \n",
              "1           1  Thyroid_Cancer   \n",
              "2           2  Thyroid_Cancer   \n",
              "3           3  Thyroid_Cancer   \n",
              "4           4  Thyroid_Cancer   \n",
              "\n",
              "                                                   a  \n",
              "0  Thyroid surgery in  children in a single insti...  \n",
              "1  \" The adopted strategy was the same as that us...  \n",
              "2  coronary arterybypass grafting thrombosis ï¬b...  \n",
              "3   Solitary plasmacytoma SP of the skull is an u...  \n",
              "4   This study aimed to investigate serum matrix ...  "
            ],
            "text/html": [
              "\n",
              "  <div id=\"df-327da0c0-a180-4953-9ee4-393cb7ce9d4c\">\n",
              "    <div class=\"colab-df-container\">\n",
              "      <div>\n",
              "<style scoped>\n",
              "    .dataframe tbody tr th:only-of-type {\n",
              "        vertical-align: middle;\n",
              "    }\n",
              "\n",
              "    .dataframe tbody tr th {\n",
              "        vertical-align: top;\n",
              "    }\n",
              "\n",
              "    .dataframe thead th {\n",
              "        text-align: right;\n",
              "    }\n",
              "</style>\n",
              "<table border=\"1\" class=\"dataframe\">\n",
              "  <thead>\n",
              "    <tr style=\"text-align: right;\">\n",
              "      <th></th>\n",
              "      <th>Unnamed: 0</th>\n",
              "      <th>0</th>\n",
              "      <th>a</th>\n",
              "    </tr>\n",
              "  </thead>\n",
              "  <tbody>\n",
              "    <tr>\n",
              "      <th>0</th>\n",
              "      <td>0</td>\n",
              "      <td>Thyroid_Cancer</td>\n",
              "      <td>Thyroid surgery in  children in a single insti...</td>\n",
              "    </tr>\n",
              "    <tr>\n",
              "      <th>1</th>\n",
              "      <td>1</td>\n",
              "      <td>Thyroid_Cancer</td>\n",
              "      <td>\" The adopted strategy was the same as that us...</td>\n",
              "    </tr>\n",
              "    <tr>\n",
              "      <th>2</th>\n",
              "      <td>2</td>\n",
              "      <td>Thyroid_Cancer</td>\n",
              "      <td>coronary arterybypass grafting thrombosis ï¬b...</td>\n",
              "    </tr>\n",
              "    <tr>\n",
              "      <th>3</th>\n",
              "      <td>3</td>\n",
              "      <td>Thyroid_Cancer</td>\n",
              "      <td>Solitary plasmacytoma SP of the skull is an u...</td>\n",
              "    </tr>\n",
              "    <tr>\n",
              "      <th>4</th>\n",
              "      <td>4</td>\n",
              "      <td>Thyroid_Cancer</td>\n",
              "      <td>This study aimed to investigate serum matrix ...</td>\n",
              "    </tr>\n",
              "  </tbody>\n",
              "</table>\n",
              "</div>\n",
              "      <button class=\"colab-df-convert\" onclick=\"convertToInteractive('df-327da0c0-a180-4953-9ee4-393cb7ce9d4c')\"\n",
              "              title=\"Convert this dataframe to an interactive table.\"\n",
              "              style=\"display:none;\">\n",
              "        \n",
              "  <svg xmlns=\"http://www.w3.org/2000/svg\" height=\"24px\"viewBox=\"0 0 24 24\"\n",
              "       width=\"24px\">\n",
              "    <path d=\"M0 0h24v24H0V0z\" fill=\"none\"/>\n",
              "    <path d=\"M18.56 5.44l.94 2.06.94-2.06 2.06-.94-2.06-.94-.94-2.06-.94 2.06-2.06.94zm-11 1L8.5 8.5l.94-2.06 2.06-.94-2.06-.94L8.5 2.5l-.94 2.06-2.06.94zm10 10l.94 2.06.94-2.06 2.06-.94-2.06-.94-.94-2.06-.94 2.06-2.06.94z\"/><path d=\"M17.41 7.96l-1.37-1.37c-.4-.4-.92-.59-1.43-.59-.52 0-1.04.2-1.43.59L10.3 9.45l-7.72 7.72c-.78.78-.78 2.05 0 2.83L4 21.41c.39.39.9.59 1.41.59.51 0 1.02-.2 1.41-.59l7.78-7.78 2.81-2.81c.8-.78.8-2.07 0-2.86zM5.41 20L4 18.59l7.72-7.72 1.47 1.35L5.41 20z\"/>\n",
              "  </svg>\n",
              "      </button>\n",
              "      \n",
              "  <style>\n",
              "    .colab-df-container {\n",
              "      display:flex;\n",
              "      flex-wrap:wrap;\n",
              "      gap: 12px;\n",
              "    }\n",
              "\n",
              "    .colab-df-convert {\n",
              "      background-color: #E8F0FE;\n",
              "      border: none;\n",
              "      border-radius: 50%;\n",
              "      cursor: pointer;\n",
              "      display: none;\n",
              "      fill: #1967D2;\n",
              "      height: 32px;\n",
              "      padding: 0 0 0 0;\n",
              "      width: 32px;\n",
              "    }\n",
              "\n",
              "    .colab-df-convert:hover {\n",
              "      background-color: #E2EBFA;\n",
              "      box-shadow: 0px 1px 2px rgba(60, 64, 67, 0.3), 0px 1px 3px 1px rgba(60, 64, 67, 0.15);\n",
              "      fill: #174EA6;\n",
              "    }\n",
              "\n",
              "    [theme=dark] .colab-df-convert {\n",
              "      background-color: #3B4455;\n",
              "      fill: #D2E3FC;\n",
              "    }\n",
              "\n",
              "    [theme=dark] .colab-df-convert:hover {\n",
              "      background-color: #434B5C;\n",
              "      box-shadow: 0px 1px 3px 1px rgba(0, 0, 0, 0.15);\n",
              "      filter: drop-shadow(0px 1px 2px rgba(0, 0, 0, 0.3));\n",
              "      fill: #FFFFFF;\n",
              "    }\n",
              "  </style>\n",
              "\n",
              "      <script>\n",
              "        const buttonEl =\n",
              "          document.querySelector('#df-327da0c0-a180-4953-9ee4-393cb7ce9d4c button.colab-df-convert');\n",
              "        buttonEl.style.display =\n",
              "          google.colab.kernel.accessAllowed ? 'block' : 'none';\n",
              "\n",
              "        async function convertToInteractive(key) {\n",
              "          const element = document.querySelector('#df-327da0c0-a180-4953-9ee4-393cb7ce9d4c');\n",
              "          const dataTable =\n",
              "            await google.colab.kernel.invokeFunction('convertToInteractive',\n",
              "                                                     [key], {});\n",
              "          if (!dataTable) return;\n",
              "\n",
              "          const docLinkHtml = 'Like what you see? Visit the ' +\n",
              "            '<a target=\"_blank\" href=https://colab.research.google.com/notebooks/data_table.ipynb>data table notebook</a>'\n",
              "            + ' to learn more about interactive tables.';\n",
              "          element.innerHTML = '';\n",
              "          dataTable['output_type'] = 'display_data';\n",
              "          await google.colab.output.renderOutput(dataTable, element);\n",
              "          const docLink = document.createElement('div');\n",
              "          docLink.innerHTML = docLinkHtml;\n",
              "          element.appendChild(docLink);\n",
              "        }\n",
              "      </script>\n",
              "    </div>\n",
              "  </div>\n",
              "  "
            ]
          },
          "metadata": {},
          "execution_count": 9
        }
      ]
    },
    {
      "cell_type": "code",
      "source": [
        "df['0'].unique()"
      ],
      "metadata": {
        "colab": {
          "base_uri": "https://localhost:8080/"
        },
        "id": "16-rw-XOKS6n",
        "outputId": "787114e4-baf3-4d5f-fc3a-13135e4c8f1d"
      },
      "execution_count": 10,
      "outputs": [
        {
          "output_type": "execute_result",
          "data": {
            "text/plain": [
              "array(['Thyroid_Cancer', 'Colon_Cancer', 'Lung_Cancer'], dtype=object)"
            ]
          },
          "metadata": {},
          "execution_count": 10
        }
      ]
    },
    {
      "cell_type": "code",
      "source": [
        "df.columns = ['index', 'disease', 'text']"
      ],
      "metadata": {
        "id": "Jdk1U9_0Oixe"
      },
      "execution_count": 11,
      "outputs": []
    },
    {
      "cell_type": "markdown",
      "source": [
        "# **Data Preprocessing**"
      ],
      "metadata": {
        "id": "bO6ky_Q2ydyX"
      }
    },
    {
      "cell_type": "markdown",
      "source": [
        "#### Removing Punctuation"
      ],
      "metadata": {
        "id": "PSg4AMNGyikn"
      }
    },
    {
      "cell_type": "code",
      "source": [
        "import string\n",
        "\n",
        "def remove_punctuation(text):\n",
        "  no_punc = [word for word in text if word not in string.punctuation]\n",
        "  words_no_punc = ''.join(no_punc)\n",
        "  return words_no_punc\n",
        "\n",
        "df['text_no_punc'] = df['text'].apply(lambda x: remove_punctuation(x))\n",
        "df.head()"
      ],
      "metadata": {
        "colab": {
          "base_uri": "https://localhost:8080/",
          "height": 206
        },
        "id": "2SPezN57M2ee",
        "outputId": "26fe6264-1180-4626-d642-e079d14a07c9"
      },
      "execution_count": 12,
      "outputs": [
        {
          "output_type": "execute_result",
          "data": {
            "text/plain": [
              "   index         disease                                               text  \\\n",
              "0      0  Thyroid_Cancer  Thyroid surgery in  children in a single insti...   \n",
              "1      1  Thyroid_Cancer  \" The adopted strategy was the same as that us...   \n",
              "2      2  Thyroid_Cancer  coronary arterybypass grafting thrombosis ï¬b...   \n",
              "3      3  Thyroid_Cancer   Solitary plasmacytoma SP of the skull is an u...   \n",
              "4      4  Thyroid_Cancer   This study aimed to investigate serum matrix ...   \n",
              "\n",
              "                                        text_no_punc  \n",
              "0  Thyroid surgery in  children in a single insti...  \n",
              "1   The adopted strategy was the same as that use...  \n",
              "2  coronary arterybypass grafting thrombosis ï¬b...  \n",
              "3   Solitary plasmacytoma SP of the skull is an u...  \n",
              "4   This study aimed to investigate serum matrix ...  "
            ],
            "text/html": [
              "\n",
              "  <div id=\"df-d7d3e0cc-5f76-4d57-99ed-1035f6fa3c6e\">\n",
              "    <div class=\"colab-df-container\">\n",
              "      <div>\n",
              "<style scoped>\n",
              "    .dataframe tbody tr th:only-of-type {\n",
              "        vertical-align: middle;\n",
              "    }\n",
              "\n",
              "    .dataframe tbody tr th {\n",
              "        vertical-align: top;\n",
              "    }\n",
              "\n",
              "    .dataframe thead th {\n",
              "        text-align: right;\n",
              "    }\n",
              "</style>\n",
              "<table border=\"1\" class=\"dataframe\">\n",
              "  <thead>\n",
              "    <tr style=\"text-align: right;\">\n",
              "      <th></th>\n",
              "      <th>index</th>\n",
              "      <th>disease</th>\n",
              "      <th>text</th>\n",
              "      <th>text_no_punc</th>\n",
              "    </tr>\n",
              "  </thead>\n",
              "  <tbody>\n",
              "    <tr>\n",
              "      <th>0</th>\n",
              "      <td>0</td>\n",
              "      <td>Thyroid_Cancer</td>\n",
              "      <td>Thyroid surgery in  children in a single insti...</td>\n",
              "      <td>Thyroid surgery in  children in a single insti...</td>\n",
              "    </tr>\n",
              "    <tr>\n",
              "      <th>1</th>\n",
              "      <td>1</td>\n",
              "      <td>Thyroid_Cancer</td>\n",
              "      <td>\" The adopted strategy was the same as that us...</td>\n",
              "      <td>The adopted strategy was the same as that use...</td>\n",
              "    </tr>\n",
              "    <tr>\n",
              "      <th>2</th>\n",
              "      <td>2</td>\n",
              "      <td>Thyroid_Cancer</td>\n",
              "      <td>coronary arterybypass grafting thrombosis ï¬b...</td>\n",
              "      <td>coronary arterybypass grafting thrombosis ï¬b...</td>\n",
              "    </tr>\n",
              "    <tr>\n",
              "      <th>3</th>\n",
              "      <td>3</td>\n",
              "      <td>Thyroid_Cancer</td>\n",
              "      <td>Solitary plasmacytoma SP of the skull is an u...</td>\n",
              "      <td>Solitary plasmacytoma SP of the skull is an u...</td>\n",
              "    </tr>\n",
              "    <tr>\n",
              "      <th>4</th>\n",
              "      <td>4</td>\n",
              "      <td>Thyroid_Cancer</td>\n",
              "      <td>This study aimed to investigate serum matrix ...</td>\n",
              "      <td>This study aimed to investigate serum matrix ...</td>\n",
              "    </tr>\n",
              "  </tbody>\n",
              "</table>\n",
              "</div>\n",
              "      <button class=\"colab-df-convert\" onclick=\"convertToInteractive('df-d7d3e0cc-5f76-4d57-99ed-1035f6fa3c6e')\"\n",
              "              title=\"Convert this dataframe to an interactive table.\"\n",
              "              style=\"display:none;\">\n",
              "        \n",
              "  <svg xmlns=\"http://www.w3.org/2000/svg\" height=\"24px\"viewBox=\"0 0 24 24\"\n",
              "       width=\"24px\">\n",
              "    <path d=\"M0 0h24v24H0V0z\" fill=\"none\"/>\n",
              "    <path d=\"M18.56 5.44l.94 2.06.94-2.06 2.06-.94-2.06-.94-.94-2.06-.94 2.06-2.06.94zm-11 1L8.5 8.5l.94-2.06 2.06-.94-2.06-.94L8.5 2.5l-.94 2.06-2.06.94zm10 10l.94 2.06.94-2.06 2.06-.94-2.06-.94-.94-2.06-.94 2.06-2.06.94z\"/><path d=\"M17.41 7.96l-1.37-1.37c-.4-.4-.92-.59-1.43-.59-.52 0-1.04.2-1.43.59L10.3 9.45l-7.72 7.72c-.78.78-.78 2.05 0 2.83L4 21.41c.39.39.9.59 1.41.59.51 0 1.02-.2 1.41-.59l7.78-7.78 2.81-2.81c.8-.78.8-2.07 0-2.86zM5.41 20L4 18.59l7.72-7.72 1.47 1.35L5.41 20z\"/>\n",
              "  </svg>\n",
              "      </button>\n",
              "      \n",
              "  <style>\n",
              "    .colab-df-container {\n",
              "      display:flex;\n",
              "      flex-wrap:wrap;\n",
              "      gap: 12px;\n",
              "    }\n",
              "\n",
              "    .colab-df-convert {\n",
              "      background-color: #E8F0FE;\n",
              "      border: none;\n",
              "      border-radius: 50%;\n",
              "      cursor: pointer;\n",
              "      display: none;\n",
              "      fill: #1967D2;\n",
              "      height: 32px;\n",
              "      padding: 0 0 0 0;\n",
              "      width: 32px;\n",
              "    }\n",
              "\n",
              "    .colab-df-convert:hover {\n",
              "      background-color: #E2EBFA;\n",
              "      box-shadow: 0px 1px 2px rgba(60, 64, 67, 0.3), 0px 1px 3px 1px rgba(60, 64, 67, 0.15);\n",
              "      fill: #174EA6;\n",
              "    }\n",
              "\n",
              "    [theme=dark] .colab-df-convert {\n",
              "      background-color: #3B4455;\n",
              "      fill: #D2E3FC;\n",
              "    }\n",
              "\n",
              "    [theme=dark] .colab-df-convert:hover {\n",
              "      background-color: #434B5C;\n",
              "      box-shadow: 0px 1px 3px 1px rgba(0, 0, 0, 0.15);\n",
              "      filter: drop-shadow(0px 1px 2px rgba(0, 0, 0, 0.3));\n",
              "      fill: #FFFFFF;\n",
              "    }\n",
              "  </style>\n",
              "\n",
              "      <script>\n",
              "        const buttonEl =\n",
              "          document.querySelector('#df-d7d3e0cc-5f76-4d57-99ed-1035f6fa3c6e button.colab-df-convert');\n",
              "        buttonEl.style.display =\n",
              "          google.colab.kernel.accessAllowed ? 'block' : 'none';\n",
              "\n",
              "        async function convertToInteractive(key) {\n",
              "          const element = document.querySelector('#df-d7d3e0cc-5f76-4d57-99ed-1035f6fa3c6e');\n",
              "          const dataTable =\n",
              "            await google.colab.kernel.invokeFunction('convertToInteractive',\n",
              "                                                     [key], {});\n",
              "          if (!dataTable) return;\n",
              "\n",
              "          const docLinkHtml = 'Like what you see? Visit the ' +\n",
              "            '<a target=\"_blank\" href=https://colab.research.google.com/notebooks/data_table.ipynb>data table notebook</a>'\n",
              "            + ' to learn more about interactive tables.';\n",
              "          element.innerHTML = '';\n",
              "          dataTable['output_type'] = 'display_data';\n",
              "          await google.colab.output.renderOutput(dataTable, element);\n",
              "          const docLink = document.createElement('div');\n",
              "          docLink.innerHTML = docLinkHtml;\n",
              "          element.appendChild(docLink);\n",
              "        }\n",
              "      </script>\n",
              "    </div>\n",
              "  </div>\n",
              "  "
            ]
          },
          "metadata": {},
          "execution_count": 12
        }
      ]
    },
    {
      "cell_type": "markdown",
      "source": [
        "#### Splitting The Words"
      ],
      "metadata": {
        "id": "aVXyQZWIynvK"
      }
    },
    {
      "cell_type": "code",
      "source": [
        "import re\n",
        "\n",
        "def tokenize(text):\n",
        "  split = re.split('\\W+', text)\n",
        "  return split\n",
        "\n",
        "df['text_no_punc_split'] = df['text_no_punc'].apply(lambda x: tokenize(x.lower()))\n",
        "df.head()"
      ],
      "metadata": {
        "colab": {
          "base_uri": "https://localhost:8080/",
          "height": 285
        },
        "id": "cpanyDdFOxr0",
        "outputId": "a5fa32be-6f16-4451-913b-b57f4b019473"
      },
      "execution_count": 13,
      "outputs": [
        {
          "output_type": "execute_result",
          "data": {
            "text/plain": [
              "   index         disease                                               text  \\\n",
              "0      0  Thyroid_Cancer  Thyroid surgery in  children in a single insti...   \n",
              "1      1  Thyroid_Cancer  \" The adopted strategy was the same as that us...   \n",
              "2      2  Thyroid_Cancer  coronary arterybypass grafting thrombosis ï¬b...   \n",
              "3      3  Thyroid_Cancer   Solitary plasmacytoma SP of the skull is an u...   \n",
              "4      4  Thyroid_Cancer   This study aimed to investigate serum matrix ...   \n",
              "\n",
              "                                        text_no_punc  \\\n",
              "0  Thyroid surgery in  children in a single insti...   \n",
              "1   The adopted strategy was the same as that use...   \n",
              "2  coronary arterybypass grafting thrombosis ï¬b...   \n",
              "3   Solitary plasmacytoma SP of the skull is an u...   \n",
              "4   This study aimed to investigate serum matrix ...   \n",
              "\n",
              "                                  text_no_punc_split  \n",
              "0  [thyroid, surgery, in, children, in, a, single...  \n",
              "1  [, the, adopted, strategy, was, the, same, as,...  \n",
              "2  [coronary, arterybypass, grafting, thrombosis,...  \n",
              "3  [, solitary, plasmacytoma, sp, of, the, skull,...  \n",
              "4  [, this, study, aimed, to, investigate, serum,...  "
            ],
            "text/html": [
              "\n",
              "  <div id=\"df-f965aa43-95a9-45d7-9158-1a6b2887028a\">\n",
              "    <div class=\"colab-df-container\">\n",
              "      <div>\n",
              "<style scoped>\n",
              "    .dataframe tbody tr th:only-of-type {\n",
              "        vertical-align: middle;\n",
              "    }\n",
              "\n",
              "    .dataframe tbody tr th {\n",
              "        vertical-align: top;\n",
              "    }\n",
              "\n",
              "    .dataframe thead th {\n",
              "        text-align: right;\n",
              "    }\n",
              "</style>\n",
              "<table border=\"1\" class=\"dataframe\">\n",
              "  <thead>\n",
              "    <tr style=\"text-align: right;\">\n",
              "      <th></th>\n",
              "      <th>index</th>\n",
              "      <th>disease</th>\n",
              "      <th>text</th>\n",
              "      <th>text_no_punc</th>\n",
              "      <th>text_no_punc_split</th>\n",
              "    </tr>\n",
              "  </thead>\n",
              "  <tbody>\n",
              "    <tr>\n",
              "      <th>0</th>\n",
              "      <td>0</td>\n",
              "      <td>Thyroid_Cancer</td>\n",
              "      <td>Thyroid surgery in  children in a single insti...</td>\n",
              "      <td>Thyroid surgery in  children in a single insti...</td>\n",
              "      <td>[thyroid, surgery, in, children, in, a, single...</td>\n",
              "    </tr>\n",
              "    <tr>\n",
              "      <th>1</th>\n",
              "      <td>1</td>\n",
              "      <td>Thyroid_Cancer</td>\n",
              "      <td>\" The adopted strategy was the same as that us...</td>\n",
              "      <td>The adopted strategy was the same as that use...</td>\n",
              "      <td>[, the, adopted, strategy, was, the, same, as,...</td>\n",
              "    </tr>\n",
              "    <tr>\n",
              "      <th>2</th>\n",
              "      <td>2</td>\n",
              "      <td>Thyroid_Cancer</td>\n",
              "      <td>coronary arterybypass grafting thrombosis ï¬b...</td>\n",
              "      <td>coronary arterybypass grafting thrombosis ï¬b...</td>\n",
              "      <td>[coronary, arterybypass, grafting, thrombosis,...</td>\n",
              "    </tr>\n",
              "    <tr>\n",
              "      <th>3</th>\n",
              "      <td>3</td>\n",
              "      <td>Thyroid_Cancer</td>\n",
              "      <td>Solitary plasmacytoma SP of the skull is an u...</td>\n",
              "      <td>Solitary plasmacytoma SP of the skull is an u...</td>\n",
              "      <td>[, solitary, plasmacytoma, sp, of, the, skull,...</td>\n",
              "    </tr>\n",
              "    <tr>\n",
              "      <th>4</th>\n",
              "      <td>4</td>\n",
              "      <td>Thyroid_Cancer</td>\n",
              "      <td>This study aimed to investigate serum matrix ...</td>\n",
              "      <td>This study aimed to investigate serum matrix ...</td>\n",
              "      <td>[, this, study, aimed, to, investigate, serum,...</td>\n",
              "    </tr>\n",
              "  </tbody>\n",
              "</table>\n",
              "</div>\n",
              "      <button class=\"colab-df-convert\" onclick=\"convertToInteractive('df-f965aa43-95a9-45d7-9158-1a6b2887028a')\"\n",
              "              title=\"Convert this dataframe to an interactive table.\"\n",
              "              style=\"display:none;\">\n",
              "        \n",
              "  <svg xmlns=\"http://www.w3.org/2000/svg\" height=\"24px\"viewBox=\"0 0 24 24\"\n",
              "       width=\"24px\">\n",
              "    <path d=\"M0 0h24v24H0V0z\" fill=\"none\"/>\n",
              "    <path d=\"M18.56 5.44l.94 2.06.94-2.06 2.06-.94-2.06-.94-.94-2.06-.94 2.06-2.06.94zm-11 1L8.5 8.5l.94-2.06 2.06-.94-2.06-.94L8.5 2.5l-.94 2.06-2.06.94zm10 10l.94 2.06.94-2.06 2.06-.94-2.06-.94-.94-2.06-.94 2.06-2.06.94z\"/><path d=\"M17.41 7.96l-1.37-1.37c-.4-.4-.92-.59-1.43-.59-.52 0-1.04.2-1.43.59L10.3 9.45l-7.72 7.72c-.78.78-.78 2.05 0 2.83L4 21.41c.39.39.9.59 1.41.59.51 0 1.02-.2 1.41-.59l7.78-7.78 2.81-2.81c.8-.78.8-2.07 0-2.86zM5.41 20L4 18.59l7.72-7.72 1.47 1.35L5.41 20z\"/>\n",
              "  </svg>\n",
              "      </button>\n",
              "      \n",
              "  <style>\n",
              "    .colab-df-container {\n",
              "      display:flex;\n",
              "      flex-wrap:wrap;\n",
              "      gap: 12px;\n",
              "    }\n",
              "\n",
              "    .colab-df-convert {\n",
              "      background-color: #E8F0FE;\n",
              "      border: none;\n",
              "      border-radius: 50%;\n",
              "      cursor: pointer;\n",
              "      display: none;\n",
              "      fill: #1967D2;\n",
              "      height: 32px;\n",
              "      padding: 0 0 0 0;\n",
              "      width: 32px;\n",
              "    }\n",
              "\n",
              "    .colab-df-convert:hover {\n",
              "      background-color: #E2EBFA;\n",
              "      box-shadow: 0px 1px 2px rgba(60, 64, 67, 0.3), 0px 1px 3px 1px rgba(60, 64, 67, 0.15);\n",
              "      fill: #174EA6;\n",
              "    }\n",
              "\n",
              "    [theme=dark] .colab-df-convert {\n",
              "      background-color: #3B4455;\n",
              "      fill: #D2E3FC;\n",
              "    }\n",
              "\n",
              "    [theme=dark] .colab-df-convert:hover {\n",
              "      background-color: #434B5C;\n",
              "      box-shadow: 0px 1px 3px 1px rgba(0, 0, 0, 0.15);\n",
              "      filter: drop-shadow(0px 1px 2px rgba(0, 0, 0, 0.3));\n",
              "      fill: #FFFFFF;\n",
              "    }\n",
              "  </style>\n",
              "\n",
              "      <script>\n",
              "        const buttonEl =\n",
              "          document.querySelector('#df-f965aa43-95a9-45d7-9158-1a6b2887028a button.colab-df-convert');\n",
              "        buttonEl.style.display =\n",
              "          google.colab.kernel.accessAllowed ? 'block' : 'none';\n",
              "\n",
              "        async function convertToInteractive(key) {\n",
              "          const element = document.querySelector('#df-f965aa43-95a9-45d7-9158-1a6b2887028a');\n",
              "          const dataTable =\n",
              "            await google.colab.kernel.invokeFunction('convertToInteractive',\n",
              "                                                     [key], {});\n",
              "          if (!dataTable) return;\n",
              "\n",
              "          const docLinkHtml = 'Like what you see? Visit the ' +\n",
              "            '<a target=\"_blank\" href=https://colab.research.google.com/notebooks/data_table.ipynb>data table notebook</a>'\n",
              "            + ' to learn more about interactive tables.';\n",
              "          element.innerHTML = '';\n",
              "          dataTable['output_type'] = 'display_data';\n",
              "          await google.colab.output.renderOutput(dataTable, element);\n",
              "          const docLink = document.createElement('div');\n",
              "          docLink.innerHTML = docLinkHtml;\n",
              "          element.appendChild(docLink);\n",
              "        }\n",
              "      </script>\n",
              "    </div>\n",
              "  </div>\n",
              "  "
            ]
          },
          "metadata": {},
          "execution_count": 13
        }
      ]
    },
    {
      "cell_type": "markdown",
      "source": [
        "#### Stopwords Removal"
      ],
      "metadata": {
        "id": "0iXPE3uSy8ja"
      }
    },
    {
      "cell_type": "code",
      "source": [
        "import nltk\n",
        "\n",
        "nltk.download('stopwords')\n",
        "\n",
        "stopword = nltk.corpus.stopwords.words('english')\n",
        "\n",
        "def remove_stopwords(text):\n",
        "  text = [word for word in text if word not in stopword]\n",
        "  return text\n",
        "\n",
        "df['text_no_punc_split_no_stw'] = df['text_no_punc_split'].apply(lambda x: remove_stopwords(x))\n",
        "df.head()"
      ],
      "metadata": {
        "colab": {
          "base_uri": "https://localhost:8080/",
          "height": 374
        },
        "id": "u-4PnMWwPhYV",
        "outputId": "3cd85874-cb24-43f3-bc59-224a4625afe9"
      },
      "execution_count": 14,
      "outputs": [
        {
          "output_type": "stream",
          "name": "stderr",
          "text": [
            "[nltk_data] Downloading package stopwords to /root/nltk_data...\n",
            "[nltk_data]   Unzipping corpora/stopwords.zip.\n"
          ]
        },
        {
          "output_type": "execute_result",
          "data": {
            "text/plain": [
              "   index         disease                                               text  \\\n",
              "0      0  Thyroid_Cancer  Thyroid surgery in  children in a single insti...   \n",
              "1      1  Thyroid_Cancer  \" The adopted strategy was the same as that us...   \n",
              "2      2  Thyroid_Cancer  coronary arterybypass grafting thrombosis ï¬b...   \n",
              "3      3  Thyroid_Cancer   Solitary plasmacytoma SP of the skull is an u...   \n",
              "4      4  Thyroid_Cancer   This study aimed to investigate serum matrix ...   \n",
              "\n",
              "                                        text_no_punc  \\\n",
              "0  Thyroid surgery in  children in a single insti...   \n",
              "1   The adopted strategy was the same as that use...   \n",
              "2  coronary arterybypass grafting thrombosis ï¬b...   \n",
              "3   Solitary plasmacytoma SP of the skull is an u...   \n",
              "4   This study aimed to investigate serum matrix ...   \n",
              "\n",
              "                                  text_no_punc_split  \\\n",
              "0  [thyroid, surgery, in, children, in, a, single...   \n",
              "1  [, the, adopted, strategy, was, the, same, as,...   \n",
              "2  [coronary, arterybypass, grafting, thrombosis,...   \n",
              "3  [, solitary, plasmacytoma, sp, of, the, skull,...   \n",
              "4  [, this, study, aimed, to, investigate, serum,...   \n",
              "\n",
              "                           text_no_punc_split_no_stw  \n",
              "0  [thyroid, surgery, children, single, instituti...  \n",
              "1  [, adopted, strategy, used, prior, years, base...  \n",
              "2  [coronary, arterybypass, grafting, thrombosis,...  \n",
              "3  [, solitary, plasmacytoma, sp, skull, uncommon...  \n",
              "4  [, study, aimed, investigate, serum, matrix, m...  "
            ],
            "text/html": [
              "\n",
              "  <div id=\"df-aae442e0-0ce0-48e4-8281-10f22ac2472c\">\n",
              "    <div class=\"colab-df-container\">\n",
              "      <div>\n",
              "<style scoped>\n",
              "    .dataframe tbody tr th:only-of-type {\n",
              "        vertical-align: middle;\n",
              "    }\n",
              "\n",
              "    .dataframe tbody tr th {\n",
              "        vertical-align: top;\n",
              "    }\n",
              "\n",
              "    .dataframe thead th {\n",
              "        text-align: right;\n",
              "    }\n",
              "</style>\n",
              "<table border=\"1\" class=\"dataframe\">\n",
              "  <thead>\n",
              "    <tr style=\"text-align: right;\">\n",
              "      <th></th>\n",
              "      <th>index</th>\n",
              "      <th>disease</th>\n",
              "      <th>text</th>\n",
              "      <th>text_no_punc</th>\n",
              "      <th>text_no_punc_split</th>\n",
              "      <th>text_no_punc_split_no_stw</th>\n",
              "    </tr>\n",
              "  </thead>\n",
              "  <tbody>\n",
              "    <tr>\n",
              "      <th>0</th>\n",
              "      <td>0</td>\n",
              "      <td>Thyroid_Cancer</td>\n",
              "      <td>Thyroid surgery in  children in a single insti...</td>\n",
              "      <td>Thyroid surgery in  children in a single insti...</td>\n",
              "      <td>[thyroid, surgery, in, children, in, a, single...</td>\n",
              "      <td>[thyroid, surgery, children, single, instituti...</td>\n",
              "    </tr>\n",
              "    <tr>\n",
              "      <th>1</th>\n",
              "      <td>1</td>\n",
              "      <td>Thyroid_Cancer</td>\n",
              "      <td>\" The adopted strategy was the same as that us...</td>\n",
              "      <td>The adopted strategy was the same as that use...</td>\n",
              "      <td>[, the, adopted, strategy, was, the, same, as,...</td>\n",
              "      <td>[, adopted, strategy, used, prior, years, base...</td>\n",
              "    </tr>\n",
              "    <tr>\n",
              "      <th>2</th>\n",
              "      <td>2</td>\n",
              "      <td>Thyroid_Cancer</td>\n",
              "      <td>coronary arterybypass grafting thrombosis ï¬b...</td>\n",
              "      <td>coronary arterybypass grafting thrombosis ï¬b...</td>\n",
              "      <td>[coronary, arterybypass, grafting, thrombosis,...</td>\n",
              "      <td>[coronary, arterybypass, grafting, thrombosis,...</td>\n",
              "    </tr>\n",
              "    <tr>\n",
              "      <th>3</th>\n",
              "      <td>3</td>\n",
              "      <td>Thyroid_Cancer</td>\n",
              "      <td>Solitary plasmacytoma SP of the skull is an u...</td>\n",
              "      <td>Solitary plasmacytoma SP of the skull is an u...</td>\n",
              "      <td>[, solitary, plasmacytoma, sp, of, the, skull,...</td>\n",
              "      <td>[, solitary, plasmacytoma, sp, skull, uncommon...</td>\n",
              "    </tr>\n",
              "    <tr>\n",
              "      <th>4</th>\n",
              "      <td>4</td>\n",
              "      <td>Thyroid_Cancer</td>\n",
              "      <td>This study aimed to investigate serum matrix ...</td>\n",
              "      <td>This study aimed to investigate serum matrix ...</td>\n",
              "      <td>[, this, study, aimed, to, investigate, serum,...</td>\n",
              "      <td>[, study, aimed, investigate, serum, matrix, m...</td>\n",
              "    </tr>\n",
              "  </tbody>\n",
              "</table>\n",
              "</div>\n",
              "      <button class=\"colab-df-convert\" onclick=\"convertToInteractive('df-aae442e0-0ce0-48e4-8281-10f22ac2472c')\"\n",
              "              title=\"Convert this dataframe to an interactive table.\"\n",
              "              style=\"display:none;\">\n",
              "        \n",
              "  <svg xmlns=\"http://www.w3.org/2000/svg\" height=\"24px\"viewBox=\"0 0 24 24\"\n",
              "       width=\"24px\">\n",
              "    <path d=\"M0 0h24v24H0V0z\" fill=\"none\"/>\n",
              "    <path d=\"M18.56 5.44l.94 2.06.94-2.06 2.06-.94-2.06-.94-.94-2.06-.94 2.06-2.06.94zm-11 1L8.5 8.5l.94-2.06 2.06-.94-2.06-.94L8.5 2.5l-.94 2.06-2.06.94zm10 10l.94 2.06.94-2.06 2.06-.94-2.06-.94-.94-2.06-.94 2.06-2.06.94z\"/><path d=\"M17.41 7.96l-1.37-1.37c-.4-.4-.92-.59-1.43-.59-.52 0-1.04.2-1.43.59L10.3 9.45l-7.72 7.72c-.78.78-.78 2.05 0 2.83L4 21.41c.39.39.9.59 1.41.59.51 0 1.02-.2 1.41-.59l7.78-7.78 2.81-2.81c.8-.78.8-2.07 0-2.86zM5.41 20L4 18.59l7.72-7.72 1.47 1.35L5.41 20z\"/>\n",
              "  </svg>\n",
              "      </button>\n",
              "      \n",
              "  <style>\n",
              "    .colab-df-container {\n",
              "      display:flex;\n",
              "      flex-wrap:wrap;\n",
              "      gap: 12px;\n",
              "    }\n",
              "\n",
              "    .colab-df-convert {\n",
              "      background-color: #E8F0FE;\n",
              "      border: none;\n",
              "      border-radius: 50%;\n",
              "      cursor: pointer;\n",
              "      display: none;\n",
              "      fill: #1967D2;\n",
              "      height: 32px;\n",
              "      padding: 0 0 0 0;\n",
              "      width: 32px;\n",
              "    }\n",
              "\n",
              "    .colab-df-convert:hover {\n",
              "      background-color: #E2EBFA;\n",
              "      box-shadow: 0px 1px 2px rgba(60, 64, 67, 0.3), 0px 1px 3px 1px rgba(60, 64, 67, 0.15);\n",
              "      fill: #174EA6;\n",
              "    }\n",
              "\n",
              "    [theme=dark] .colab-df-convert {\n",
              "      background-color: #3B4455;\n",
              "      fill: #D2E3FC;\n",
              "    }\n",
              "\n",
              "    [theme=dark] .colab-df-convert:hover {\n",
              "      background-color: #434B5C;\n",
              "      box-shadow: 0px 1px 3px 1px rgba(0, 0, 0, 0.15);\n",
              "      filter: drop-shadow(0px 1px 2px rgba(0, 0, 0, 0.3));\n",
              "      fill: #FFFFFF;\n",
              "    }\n",
              "  </style>\n",
              "\n",
              "      <script>\n",
              "        const buttonEl =\n",
              "          document.querySelector('#df-aae442e0-0ce0-48e4-8281-10f22ac2472c button.colab-df-convert');\n",
              "        buttonEl.style.display =\n",
              "          google.colab.kernel.accessAllowed ? 'block' : 'none';\n",
              "\n",
              "        async function convertToInteractive(key) {\n",
              "          const element = document.querySelector('#df-aae442e0-0ce0-48e4-8281-10f22ac2472c');\n",
              "          const dataTable =\n",
              "            await google.colab.kernel.invokeFunction('convertToInteractive',\n",
              "                                                     [key], {});\n",
              "          if (!dataTable) return;\n",
              "\n",
              "          const docLinkHtml = 'Like what you see? Visit the ' +\n",
              "            '<a target=\"_blank\" href=https://colab.research.google.com/notebooks/data_table.ipynb>data table notebook</a>'\n",
              "            + ' to learn more about interactive tables.';\n",
              "          element.innerHTML = '';\n",
              "          dataTable['output_type'] = 'display_data';\n",
              "          await google.colab.output.renderOutput(dataTable, element);\n",
              "          const docLink = document.createElement('div');\n",
              "          docLink.innerHTML = docLinkHtml;\n",
              "          element.appendChild(docLink);\n",
              "        }\n",
              "      </script>\n",
              "    </div>\n",
              "  </div>\n",
              "  "
            ]
          },
          "metadata": {},
          "execution_count": 14
        }
      ]
    },
    {
      "cell_type": "markdown",
      "source": [
        "#### Lemmatization"
      ],
      "metadata": {
        "id": "kiuf_TGpy_XW"
      }
    },
    {
      "cell_type": "code",
      "source": [
        "nltk.download('wordnet')\n",
        "nltk.download('omw-1.4')\n",
        "\n",
        "lematizer = nltk.stem.WordNetLemmatizer()\n",
        "\n",
        "def word_lemmatizer(text):\n",
        "  lemma_text = [lematizer.lemmatize(word) for word in text]\n",
        "  lemma_text_joined = ' '.join(lemma_text)\n",
        "  return lemma_text_joined\n",
        "\n",
        "df['text_no_punc_split_no_stw_lemm'] = df['text_no_punc_split_no_stw'].apply(lambda title: word_lemmatizer(title))\n",
        "df.head()"
      ],
      "metadata": {
        "colab": {
          "base_uri": "https://localhost:8080/",
          "height": 495
        },
        "id": "G0UZBeBfROQY",
        "outputId": "4dec5089-6a29-46a1-8d64-8f173a77c6eb"
      },
      "execution_count": 15,
      "outputs": [
        {
          "output_type": "stream",
          "name": "stderr",
          "text": [
            "[nltk_data] Downloading package wordnet to /root/nltk_data...\n",
            "[nltk_data] Downloading package omw-1.4 to /root/nltk_data...\n"
          ]
        },
        {
          "output_type": "execute_result",
          "data": {
            "text/plain": [
              "   index         disease                                               text  \\\n",
              "0      0  Thyroid_Cancer  Thyroid surgery in  children in a single insti...   \n",
              "1      1  Thyroid_Cancer  \" The adopted strategy was the same as that us...   \n",
              "2      2  Thyroid_Cancer  coronary arterybypass grafting thrombosis ï¬b...   \n",
              "3      3  Thyroid_Cancer   Solitary plasmacytoma SP of the skull is an u...   \n",
              "4      4  Thyroid_Cancer   This study aimed to investigate serum matrix ...   \n",
              "\n",
              "                                        text_no_punc  \\\n",
              "0  Thyroid surgery in  children in a single insti...   \n",
              "1   The adopted strategy was the same as that use...   \n",
              "2  coronary arterybypass grafting thrombosis ï¬b...   \n",
              "3   Solitary plasmacytoma SP of the skull is an u...   \n",
              "4   This study aimed to investigate serum matrix ...   \n",
              "\n",
              "                                  text_no_punc_split  \\\n",
              "0  [thyroid, surgery, in, children, in, a, single...   \n",
              "1  [, the, adopted, strategy, was, the, same, as,...   \n",
              "2  [coronary, arterybypass, grafting, thrombosis,...   \n",
              "3  [, solitary, plasmacytoma, sp, of, the, skull,...   \n",
              "4  [, this, study, aimed, to, investigate, serum,...   \n",
              "\n",
              "                           text_no_punc_split_no_stw  \\\n",
              "0  [thyroid, surgery, children, single, instituti...   \n",
              "1  [, adopted, strategy, used, prior, years, base...   \n",
              "2  [coronary, arterybypass, grafting, thrombosis,...   \n",
              "3  [, solitary, plasmacytoma, sp, skull, uncommon...   \n",
              "4  [, study, aimed, investigate, serum, matrix, m...   \n",
              "\n",
              "                      text_no_punc_split_no_stw_lemm  \n",
              "0  thyroid surgery child single institution osama...  \n",
              "1   adopted strategy used prior year based four e...  \n",
              "2  coronary arterybypass grafting thrombosis ï br...  \n",
              "3   solitary plasmacytoma sp skull uncommon clini...  \n",
              "4   study aimed investigate serum matrix metallop...  "
            ],
            "text/html": [
              "\n",
              "  <div id=\"df-efb62f11-34d5-43ae-99e8-41c0bfbf6842\">\n",
              "    <div class=\"colab-df-container\">\n",
              "      <div>\n",
              "<style scoped>\n",
              "    .dataframe tbody tr th:only-of-type {\n",
              "        vertical-align: middle;\n",
              "    }\n",
              "\n",
              "    .dataframe tbody tr th {\n",
              "        vertical-align: top;\n",
              "    }\n",
              "\n",
              "    .dataframe thead th {\n",
              "        text-align: right;\n",
              "    }\n",
              "</style>\n",
              "<table border=\"1\" class=\"dataframe\">\n",
              "  <thead>\n",
              "    <tr style=\"text-align: right;\">\n",
              "      <th></th>\n",
              "      <th>index</th>\n",
              "      <th>disease</th>\n",
              "      <th>text</th>\n",
              "      <th>text_no_punc</th>\n",
              "      <th>text_no_punc_split</th>\n",
              "      <th>text_no_punc_split_no_stw</th>\n",
              "      <th>text_no_punc_split_no_stw_lemm</th>\n",
              "    </tr>\n",
              "  </thead>\n",
              "  <tbody>\n",
              "    <tr>\n",
              "      <th>0</th>\n",
              "      <td>0</td>\n",
              "      <td>Thyroid_Cancer</td>\n",
              "      <td>Thyroid surgery in  children in a single insti...</td>\n",
              "      <td>Thyroid surgery in  children in a single insti...</td>\n",
              "      <td>[thyroid, surgery, in, children, in, a, single...</td>\n",
              "      <td>[thyroid, surgery, children, single, instituti...</td>\n",
              "      <td>thyroid surgery child single institution osama...</td>\n",
              "    </tr>\n",
              "    <tr>\n",
              "      <th>1</th>\n",
              "      <td>1</td>\n",
              "      <td>Thyroid_Cancer</td>\n",
              "      <td>\" The adopted strategy was the same as that us...</td>\n",
              "      <td>The adopted strategy was the same as that use...</td>\n",
              "      <td>[, the, adopted, strategy, was, the, same, as,...</td>\n",
              "      <td>[, adopted, strategy, used, prior, years, base...</td>\n",
              "      <td>adopted strategy used prior year based four e...</td>\n",
              "    </tr>\n",
              "    <tr>\n",
              "      <th>2</th>\n",
              "      <td>2</td>\n",
              "      <td>Thyroid_Cancer</td>\n",
              "      <td>coronary arterybypass grafting thrombosis ï¬b...</td>\n",
              "      <td>coronary arterybypass grafting thrombosis ï¬b...</td>\n",
              "      <td>[coronary, arterybypass, grafting, thrombosis,...</td>\n",
              "      <td>[coronary, arterybypass, grafting, thrombosis,...</td>\n",
              "      <td>coronary arterybypass grafting thrombosis ï br...</td>\n",
              "    </tr>\n",
              "    <tr>\n",
              "      <th>3</th>\n",
              "      <td>3</td>\n",
              "      <td>Thyroid_Cancer</td>\n",
              "      <td>Solitary plasmacytoma SP of the skull is an u...</td>\n",
              "      <td>Solitary plasmacytoma SP of the skull is an u...</td>\n",
              "      <td>[, solitary, plasmacytoma, sp, of, the, skull,...</td>\n",
              "      <td>[, solitary, plasmacytoma, sp, skull, uncommon...</td>\n",
              "      <td>solitary plasmacytoma sp skull uncommon clini...</td>\n",
              "    </tr>\n",
              "    <tr>\n",
              "      <th>4</th>\n",
              "      <td>4</td>\n",
              "      <td>Thyroid_Cancer</td>\n",
              "      <td>This study aimed to investigate serum matrix ...</td>\n",
              "      <td>This study aimed to investigate serum matrix ...</td>\n",
              "      <td>[, this, study, aimed, to, investigate, serum,...</td>\n",
              "      <td>[, study, aimed, investigate, serum, matrix, m...</td>\n",
              "      <td>study aimed investigate serum matrix metallop...</td>\n",
              "    </tr>\n",
              "  </tbody>\n",
              "</table>\n",
              "</div>\n",
              "      <button class=\"colab-df-convert\" onclick=\"convertToInteractive('df-efb62f11-34d5-43ae-99e8-41c0bfbf6842')\"\n",
              "              title=\"Convert this dataframe to an interactive table.\"\n",
              "              style=\"display:none;\">\n",
              "        \n",
              "  <svg xmlns=\"http://www.w3.org/2000/svg\" height=\"24px\"viewBox=\"0 0 24 24\"\n",
              "       width=\"24px\">\n",
              "    <path d=\"M0 0h24v24H0V0z\" fill=\"none\"/>\n",
              "    <path d=\"M18.56 5.44l.94 2.06.94-2.06 2.06-.94-2.06-.94-.94-2.06-.94 2.06-2.06.94zm-11 1L8.5 8.5l.94-2.06 2.06-.94-2.06-.94L8.5 2.5l-.94 2.06-2.06.94zm10 10l.94 2.06.94-2.06 2.06-.94-2.06-.94-.94-2.06-.94 2.06-2.06.94z\"/><path d=\"M17.41 7.96l-1.37-1.37c-.4-.4-.92-.59-1.43-.59-.52 0-1.04.2-1.43.59L10.3 9.45l-7.72 7.72c-.78.78-.78 2.05 0 2.83L4 21.41c.39.39.9.59 1.41.59.51 0 1.02-.2 1.41-.59l7.78-7.78 2.81-2.81c.8-.78.8-2.07 0-2.86zM5.41 20L4 18.59l7.72-7.72 1.47 1.35L5.41 20z\"/>\n",
              "  </svg>\n",
              "      </button>\n",
              "      \n",
              "  <style>\n",
              "    .colab-df-container {\n",
              "      display:flex;\n",
              "      flex-wrap:wrap;\n",
              "      gap: 12px;\n",
              "    }\n",
              "\n",
              "    .colab-df-convert {\n",
              "      background-color: #E8F0FE;\n",
              "      border: none;\n",
              "      border-radius: 50%;\n",
              "      cursor: pointer;\n",
              "      display: none;\n",
              "      fill: #1967D2;\n",
              "      height: 32px;\n",
              "      padding: 0 0 0 0;\n",
              "      width: 32px;\n",
              "    }\n",
              "\n",
              "    .colab-df-convert:hover {\n",
              "      background-color: #E2EBFA;\n",
              "      box-shadow: 0px 1px 2px rgba(60, 64, 67, 0.3), 0px 1px 3px 1px rgba(60, 64, 67, 0.15);\n",
              "      fill: #174EA6;\n",
              "    }\n",
              "\n",
              "    [theme=dark] .colab-df-convert {\n",
              "      background-color: #3B4455;\n",
              "      fill: #D2E3FC;\n",
              "    }\n",
              "\n",
              "    [theme=dark] .colab-df-convert:hover {\n",
              "      background-color: #434B5C;\n",
              "      box-shadow: 0px 1px 3px 1px rgba(0, 0, 0, 0.15);\n",
              "      filter: drop-shadow(0px 1px 2px rgba(0, 0, 0, 0.3));\n",
              "      fill: #FFFFFF;\n",
              "    }\n",
              "  </style>\n",
              "\n",
              "      <script>\n",
              "        const buttonEl =\n",
              "          document.querySelector('#df-efb62f11-34d5-43ae-99e8-41c0bfbf6842 button.colab-df-convert');\n",
              "        buttonEl.style.display =\n",
              "          google.colab.kernel.accessAllowed ? 'block' : 'none';\n",
              "\n",
              "        async function convertToInteractive(key) {\n",
              "          const element = document.querySelector('#df-efb62f11-34d5-43ae-99e8-41c0bfbf6842');\n",
              "          const dataTable =\n",
              "            await google.colab.kernel.invokeFunction('convertToInteractive',\n",
              "                                                     [key], {});\n",
              "          if (!dataTable) return;\n",
              "\n",
              "          const docLinkHtml = 'Like what you see? Visit the ' +\n",
              "            '<a target=\"_blank\" href=https://colab.research.google.com/notebooks/data_table.ipynb>data table notebook</a>'\n",
              "            + ' to learn more about interactive tables.';\n",
              "          element.innerHTML = '';\n",
              "          dataTable['output_type'] = 'display_data';\n",
              "          await google.colab.output.renderOutput(dataTable, element);\n",
              "          const docLink = document.createElement('div');\n",
              "          docLink.innerHTML = docLinkHtml;\n",
              "          element.appendChild(docLink);\n",
              "        }\n",
              "      </script>\n",
              "    </div>\n",
              "  </div>\n",
              "  "
            ]
          },
          "metadata": {},
          "execution_count": 15
        }
      ]
    },
    {
      "cell_type": "code",
      "source": [
        "# checking if there are null values or not\n",
        "df.disease.isna().sum()"
      ],
      "metadata": {
        "colab": {
          "base_uri": "https://localhost:8080/"
        },
        "id": "xftmG9SpYWxT",
        "outputId": "0390d36a-e4cf-451c-b3f9-5aa4f7180e52"
      },
      "execution_count": 16,
      "outputs": [
        {
          "output_type": "execute_result",
          "data": {
            "text/plain": [
              "0"
            ]
          },
          "metadata": {},
          "execution_count": 16
        }
      ]
    },
    {
      "cell_type": "markdown",
      "source": [
        "#### Nominal Encoding"
      ],
      "metadata": {
        "id": "mrGiROPozSCp"
      }
    },
    {
      "cell_type": "code",
      "source": [
        "disease = pd.get_dummies(df.disease)\n",
        "df = pd.concat([df, disease], axis=1)\n",
        "df = df.drop(columns=['index', 'disease', 'text', 'text_no_punc', 'text_no_punc_split', 'text_no_punc_split_no_stw'])\n",
        "df.head()"
      ],
      "metadata": {
        "colab": {
          "base_uri": "https://localhost:8080/",
          "height": 206
        },
        "id": "WmNvxmFxd286",
        "outputId": "92ce6385-0b9b-45bf-fc2e-a09b0d79d488"
      },
      "execution_count": 17,
      "outputs": [
        {
          "output_type": "execute_result",
          "data": {
            "text/plain": [
              "                      text_no_punc_split_no_stw_lemm  Colon_Cancer  \\\n",
              "0  thyroid surgery child single institution osama...             0   \n",
              "1   adopted strategy used prior year based four e...             0   \n",
              "2  coronary arterybypass grafting thrombosis ï br...             0   \n",
              "3   solitary plasmacytoma sp skull uncommon clini...             0   \n",
              "4   study aimed investigate serum matrix metallop...             0   \n",
              "\n",
              "   Lung_Cancer  Thyroid_Cancer  \n",
              "0            0               1  \n",
              "1            0               1  \n",
              "2            0               1  \n",
              "3            0               1  \n",
              "4            0               1  "
            ],
            "text/html": [
              "\n",
              "  <div id=\"df-1372487e-de69-4c1f-b31b-733ddbd15d73\">\n",
              "    <div class=\"colab-df-container\">\n",
              "      <div>\n",
              "<style scoped>\n",
              "    .dataframe tbody tr th:only-of-type {\n",
              "        vertical-align: middle;\n",
              "    }\n",
              "\n",
              "    .dataframe tbody tr th {\n",
              "        vertical-align: top;\n",
              "    }\n",
              "\n",
              "    .dataframe thead th {\n",
              "        text-align: right;\n",
              "    }\n",
              "</style>\n",
              "<table border=\"1\" class=\"dataframe\">\n",
              "  <thead>\n",
              "    <tr style=\"text-align: right;\">\n",
              "      <th></th>\n",
              "      <th>text_no_punc_split_no_stw_lemm</th>\n",
              "      <th>Colon_Cancer</th>\n",
              "      <th>Lung_Cancer</th>\n",
              "      <th>Thyroid_Cancer</th>\n",
              "    </tr>\n",
              "  </thead>\n",
              "  <tbody>\n",
              "    <tr>\n",
              "      <th>0</th>\n",
              "      <td>thyroid surgery child single institution osama...</td>\n",
              "      <td>0</td>\n",
              "      <td>0</td>\n",
              "      <td>1</td>\n",
              "    </tr>\n",
              "    <tr>\n",
              "      <th>1</th>\n",
              "      <td>adopted strategy used prior year based four e...</td>\n",
              "      <td>0</td>\n",
              "      <td>0</td>\n",
              "      <td>1</td>\n",
              "    </tr>\n",
              "    <tr>\n",
              "      <th>2</th>\n",
              "      <td>coronary arterybypass grafting thrombosis ï br...</td>\n",
              "      <td>0</td>\n",
              "      <td>0</td>\n",
              "      <td>1</td>\n",
              "    </tr>\n",
              "    <tr>\n",
              "      <th>3</th>\n",
              "      <td>solitary plasmacytoma sp skull uncommon clini...</td>\n",
              "      <td>0</td>\n",
              "      <td>0</td>\n",
              "      <td>1</td>\n",
              "    </tr>\n",
              "    <tr>\n",
              "      <th>4</th>\n",
              "      <td>study aimed investigate serum matrix metallop...</td>\n",
              "      <td>0</td>\n",
              "      <td>0</td>\n",
              "      <td>1</td>\n",
              "    </tr>\n",
              "  </tbody>\n",
              "</table>\n",
              "</div>\n",
              "      <button class=\"colab-df-convert\" onclick=\"convertToInteractive('df-1372487e-de69-4c1f-b31b-733ddbd15d73')\"\n",
              "              title=\"Convert this dataframe to an interactive table.\"\n",
              "              style=\"display:none;\">\n",
              "        \n",
              "  <svg xmlns=\"http://www.w3.org/2000/svg\" height=\"24px\"viewBox=\"0 0 24 24\"\n",
              "       width=\"24px\">\n",
              "    <path d=\"M0 0h24v24H0V0z\" fill=\"none\"/>\n",
              "    <path d=\"M18.56 5.44l.94 2.06.94-2.06 2.06-.94-2.06-.94-.94-2.06-.94 2.06-2.06.94zm-11 1L8.5 8.5l.94-2.06 2.06-.94-2.06-.94L8.5 2.5l-.94 2.06-2.06.94zm10 10l.94 2.06.94-2.06 2.06-.94-2.06-.94-.94-2.06-.94 2.06-2.06.94z\"/><path d=\"M17.41 7.96l-1.37-1.37c-.4-.4-.92-.59-1.43-.59-.52 0-1.04.2-1.43.59L10.3 9.45l-7.72 7.72c-.78.78-.78 2.05 0 2.83L4 21.41c.39.39.9.59 1.41.59.51 0 1.02-.2 1.41-.59l7.78-7.78 2.81-2.81c.8-.78.8-2.07 0-2.86zM5.41 20L4 18.59l7.72-7.72 1.47 1.35L5.41 20z\"/>\n",
              "  </svg>\n",
              "      </button>\n",
              "      \n",
              "  <style>\n",
              "    .colab-df-container {\n",
              "      display:flex;\n",
              "      flex-wrap:wrap;\n",
              "      gap: 12px;\n",
              "    }\n",
              "\n",
              "    .colab-df-convert {\n",
              "      background-color: #E8F0FE;\n",
              "      border: none;\n",
              "      border-radius: 50%;\n",
              "      cursor: pointer;\n",
              "      display: none;\n",
              "      fill: #1967D2;\n",
              "      height: 32px;\n",
              "      padding: 0 0 0 0;\n",
              "      width: 32px;\n",
              "    }\n",
              "\n",
              "    .colab-df-convert:hover {\n",
              "      background-color: #E2EBFA;\n",
              "      box-shadow: 0px 1px 2px rgba(60, 64, 67, 0.3), 0px 1px 3px 1px rgba(60, 64, 67, 0.15);\n",
              "      fill: #174EA6;\n",
              "    }\n",
              "\n",
              "    [theme=dark] .colab-df-convert {\n",
              "      background-color: #3B4455;\n",
              "      fill: #D2E3FC;\n",
              "    }\n",
              "\n",
              "    [theme=dark] .colab-df-convert:hover {\n",
              "      background-color: #434B5C;\n",
              "      box-shadow: 0px 1px 3px 1px rgba(0, 0, 0, 0.15);\n",
              "      filter: drop-shadow(0px 1px 2px rgba(0, 0, 0, 0.3));\n",
              "      fill: #FFFFFF;\n",
              "    }\n",
              "  </style>\n",
              "\n",
              "      <script>\n",
              "        const buttonEl =\n",
              "          document.querySelector('#df-1372487e-de69-4c1f-b31b-733ddbd15d73 button.colab-df-convert');\n",
              "        buttonEl.style.display =\n",
              "          google.colab.kernel.accessAllowed ? 'block' : 'none';\n",
              "\n",
              "        async function convertToInteractive(key) {\n",
              "          const element = document.querySelector('#df-1372487e-de69-4c1f-b31b-733ddbd15d73');\n",
              "          const dataTable =\n",
              "            await google.colab.kernel.invokeFunction('convertToInteractive',\n",
              "                                                     [key], {});\n",
              "          if (!dataTable) return;\n",
              "\n",
              "          const docLinkHtml = 'Like what you see? Visit the ' +\n",
              "            '<a target=\"_blank\" href=https://colab.research.google.com/notebooks/data_table.ipynb>data table notebook</a>'\n",
              "            + ' to learn more about interactive tables.';\n",
              "          element.innerHTML = '';\n",
              "          dataTable['output_type'] = 'display_data';\n",
              "          await google.colab.output.renderOutput(dataTable, element);\n",
              "          const docLink = document.createElement('div');\n",
              "          docLink.innerHTML = docLinkHtml;\n",
              "          element.appendChild(docLink);\n",
              "        }\n",
              "      </script>\n",
              "    </div>\n",
              "  </div>\n",
              "  "
            ]
          },
          "metadata": {},
          "execution_count": 17
        }
      ]
    },
    {
      "cell_type": "markdown",
      "source": [
        "#### Changing the values of the dataframe to numpy array using values attribute so that it can be consumed by the model"
      ],
      "metadata": {
        "id": "GLhA7svaz-pK"
      }
    },
    {
      "cell_type": "code",
      "source": [
        "text = df['text_no_punc_split_no_stw_lemm'].values\n",
        "label = df[['Colon_Cancer', 'Lung_Cancer', 'Thyroid_Cancer']].values"
      ],
      "metadata": {
        "id": "51F5aMOPhhA4"
      },
      "execution_count": 18,
      "outputs": []
    },
    {
      "cell_type": "markdown",
      "source": [
        "#### Data Splitting"
      ],
      "metadata": {
        "id": "noGea5aQ0UEq"
      }
    },
    {
      "cell_type": "code",
      "source": [
        "from sklearn.model_selection import train_test_split\n",
        "text_train, text_test, label_train, label_test = train_test_split(text, label, test_size=0.2)"
      ],
      "metadata": {
        "id": "H8yIkmZAh5g_"
      },
      "execution_count": 19,
      "outputs": []
    },
    {
      "cell_type": "markdown",
      "source": [
        "# **Model Development**"
      ],
      "metadata": {
        "id": "77L5A6iv0a4X"
      }
    },
    {
      "cell_type": "markdown",
      "source": [
        "#### Implementing tokenization function then converting its results to sequence"
      ],
      "metadata": {
        "id": "hPWwyyJj0s7L"
      }
    },
    {
      "cell_type": "code",
      "source": [
        "from tensorflow.keras.preprocessing.text import Tokenizer\n",
        "from tensorflow.keras.preprocessing.sequence import pad_sequences\n",
        " \n",
        "tokenizer = Tokenizer(num_words=5000, oov_token='-')\n",
        "tokenizer.fit_on_texts(text_train) \n",
        "tokenizer.fit_on_texts(text_test)\n",
        " \n",
        "train_seq = tokenizer.texts_to_sequences(text_train)\n",
        "test_seq = tokenizer.texts_to_sequences(text_test)\n",
        " \n",
        "padded_train = pad_sequences(train_seq)\n",
        "padded_test = pad_sequences(test_seq)"
      ],
      "metadata": {
        "id": "wNrSBmIWieuJ"
      },
      "execution_count": 20,
      "outputs": []
    },
    {
      "cell_type": "markdown",
      "source": [
        "#### Architecting the model"
      ],
      "metadata": {
        "id": "K1vnbTE31I3W"
      }
    },
    {
      "cell_type": "code",
      "source": [
        "import tensorflow as tf\n",
        "\n",
        "model = tf.keras.Sequential([\n",
        "    tf.keras.layers.Embedding(input_dim=5000, output_dim=16),\n",
        "    tf.keras.layers.LSTM(64),\n",
        "    tf.keras.layers.Dense(128, activation='relu'),\n",
        "    tf.keras.layers.Dense(64, activation='relu'),\n",
        "    tf.keras.layers.Dense(3, activation='softmax')\n",
        "])\n",
        "\n",
        "model.compile(loss='categorical_crossentropy', optimizer='adam', metrics=['accuracy'])"
      ],
      "metadata": {
        "id": "5fssAgO4jQ1m"
      },
      "execution_count": 21,
      "outputs": []
    },
    {
      "cell_type": "code",
      "source": [
        "model.summary()"
      ],
      "metadata": {
        "colab": {
          "base_uri": "https://localhost:8080/"
        },
        "id": "wnlba-gIk0eO",
        "outputId": "8b4a5c08-726f-4101-deb2-eafc14371407"
      },
      "execution_count": 22,
      "outputs": [
        {
          "output_type": "stream",
          "name": "stdout",
          "text": [
            "Model: \"sequential\"\n",
            "_________________________________________________________________\n",
            " Layer (type)                Output Shape              Param #   \n",
            "=================================================================\n",
            " embedding (Embedding)       (None, None, 16)          80000     \n",
            "                                                                 \n",
            " lstm (LSTM)                 (None, 64)                20736     \n",
            "                                                                 \n",
            " dense (Dense)               (None, 128)               8320      \n",
            "                                                                 \n",
            " dense_1 (Dense)             (None, 64)                8256      \n",
            "                                                                 \n",
            " dense_2 (Dense)             (None, 3)                 195       \n",
            "                                                                 \n",
            "=================================================================\n",
            "Total params: 117,507\n",
            "Trainable params: 117,507\n",
            "Non-trainable params: 0\n",
            "_________________________________________________________________\n"
          ]
        }
      ]
    },
    {
      "cell_type": "markdown",
      "source": [
        "#### Creating callback function"
      ],
      "metadata": {
        "id": "B95HFd_41RRG"
      }
    },
    {
      "cell_type": "code",
      "source": [
        "acc_thres = 0.99\n",
        "\n",
        "class customCallback(tf.keras.callbacks.Callback): \n",
        "  def on_epoch_end(self, epoch, logs={}): \n",
        "    if(logs.get('accuracy') > acc_thres and logs.get('val_accuracy') > acc_thres):   \n",
        "      print(\"\\nReached %2.2f%% accuracy, stopping training . . .\" %(acc_thres*100))   \n",
        "      self.model.stop_training = True\n",
        "\n",
        "callbacks = customCallback()"
      ],
      "metadata": {
        "id": "dKMukM1zk4Ek"
      },
      "execution_count": 23,
      "outputs": []
    },
    {
      "cell_type": "markdown",
      "source": [
        "#### Training the model"
      ],
      "metadata": {
        "id": "CHbvn7Aq1YtV"
      }
    },
    {
      "cell_type": "code",
      "source": [
        "history = model.fit(\n",
        "    padded_train, \n",
        "    label_train, \n",
        "    epochs=30, \n",
        "    validation_data=(padded_test, label_test), \n",
        "    callbacks=[callbacks]\n",
        "    )"
      ],
      "metadata": {
        "colab": {
          "base_uri": "https://localhost:8080/"
        },
        "id": "olPyqotZmpvR",
        "outputId": "f2a1c73a-88b0-48d9-a18f-827642617ab5"
      },
      "execution_count": 24,
      "outputs": [
        {
          "output_type": "stream",
          "name": "stdout",
          "text": [
            "Epoch 1/30\n",
            "190/190 [==============================] - 34s 123ms/step - loss: 1.1394 - accuracy: 0.4075 - val_loss: 1.0835 - val_accuracy: 0.3791\n",
            "Epoch 2/30\n",
            "190/190 [==============================] - 23s 121ms/step - loss: 1.0199 - accuracy: 0.4569 - val_loss: 0.7596 - val_accuracy: 0.5845\n",
            "Epoch 3/30\n",
            "190/190 [==============================] - 24s 125ms/step - loss: 0.5458 - accuracy: 0.7072 - val_loss: 0.5374 - val_accuracy: 0.6585\n",
            "Epoch 4/30\n",
            "190/190 [==============================] - 23s 121ms/step - loss: 0.2992 - accuracy: 0.8905 - val_loss: 0.3390 - val_accuracy: 0.8666\n",
            "Epoch 5/30\n",
            "190/190 [==============================] - 23s 121ms/step - loss: 0.1551 - accuracy: 0.9491 - val_loss: 0.1447 - val_accuracy: 0.9564\n",
            "Epoch 6/30\n",
            "190/190 [==============================] - 23s 121ms/step - loss: 0.1050 - accuracy: 0.9709 - val_loss: 0.1178 - val_accuracy: 0.9690\n",
            "Epoch 7/30\n",
            "190/190 [==============================] - 24s 124ms/step - loss: 0.1123 - accuracy: 0.9647 - val_loss: 0.0819 - val_accuracy: 0.9742\n",
            "Epoch 8/30\n",
            "190/190 [==============================] - 23s 121ms/step - loss: 0.0906 - accuracy: 0.9726 - val_loss: 0.0910 - val_accuracy: 0.9703\n",
            "Epoch 9/30\n",
            "190/190 [==============================] - 23s 120ms/step - loss: 0.0784 - accuracy: 0.9764 - val_loss: 0.1272 - val_accuracy: 0.9670\n",
            "Epoch 10/30\n",
            "190/190 [==============================] - 23s 121ms/step - loss: 0.0794 - accuracy: 0.9772 - val_loss: 0.0767 - val_accuracy: 0.9802\n",
            "Epoch 11/30\n",
            "190/190 [==============================] - 23s 121ms/step - loss: 0.0791 - accuracy: 0.9757 - val_loss: 0.0800 - val_accuracy: 0.9742\n",
            "Epoch 12/30\n",
            "190/190 [==============================] - 23s 121ms/step - loss: 0.0609 - accuracy: 0.9830 - val_loss: 0.0580 - val_accuracy: 0.9841\n",
            "Epoch 13/30\n",
            "190/190 [==============================] - 23s 121ms/step - loss: 0.0759 - accuracy: 0.9774 - val_loss: 0.0666 - val_accuracy: 0.9749\n",
            "Epoch 14/30\n",
            "190/190 [==============================] - 23s 121ms/step - loss: 0.0569 - accuracy: 0.9815 - val_loss: 0.1119 - val_accuracy: 0.9683\n",
            "Epoch 15/30\n",
            "190/190 [==============================] - 23s 121ms/step - loss: 0.0605 - accuracy: 0.9800 - val_loss: 0.0508 - val_accuracy: 0.9841\n",
            "Epoch 16/30\n",
            "190/190 [==============================] - 23s 121ms/step - loss: 0.0460 - accuracy: 0.9856 - val_loss: 0.0450 - val_accuracy: 0.9868\n",
            "Epoch 17/30\n",
            "190/190 [==============================] - 23s 124ms/step - loss: 0.0512 - accuracy: 0.9832 - val_loss: 0.0918 - val_accuracy: 0.9723\n",
            "Epoch 18/30\n",
            "190/190 [==============================] - 23s 121ms/step - loss: 0.0460 - accuracy: 0.9875 - val_loss: 0.0396 - val_accuracy: 0.9888\n",
            "Epoch 19/30\n",
            "190/190 [==============================] - 23s 121ms/step - loss: 0.0375 - accuracy: 0.9896 - val_loss: 0.0577 - val_accuracy: 0.9828\n",
            "Epoch 20/30\n",
            "190/190 [==============================] - 23s 122ms/step - loss: 0.0373 - accuracy: 0.9888 - val_loss: 0.0306 - val_accuracy: 0.9927\n",
            "Epoch 21/30\n",
            "190/190 [==============================] - 23s 121ms/step - loss: 0.0448 - accuracy: 0.9866 - val_loss: 0.0426 - val_accuracy: 0.9835\n",
            "Epoch 22/30\n",
            "190/190 [==============================] - 23s 122ms/step - loss: 0.0399 - accuracy: 0.9868 - val_loss: 0.0647 - val_accuracy: 0.9775\n",
            "Epoch 23/30\n",
            "190/190 [==============================] - 23s 122ms/step - loss: 0.0212 - accuracy: 0.9921 - val_loss: 0.0291 - val_accuracy: 0.9894\n",
            "Epoch 24/30\n",
            "190/190 [==============================] - 23s 121ms/step - loss: 0.0537 - accuracy: 0.9820 - val_loss: 0.0417 - val_accuracy: 0.9835\n",
            "Epoch 25/30\n",
            "190/190 [==============================] - ETA: 0s - loss: 0.0169 - accuracy: 0.9931\n",
            "Reached 99.00% accuracy, stopping training . . .\n",
            "190/190 [==============================] - 23s 122ms/step - loss: 0.0169 - accuracy: 0.9931 - val_loss: 0.0146 - val_accuracy: 0.9921\n"
          ]
        }
      ]
    },
    {
      "cell_type": "markdown",
      "source": [
        "#### Creating accuracy and loss plot"
      ],
      "metadata": {
        "id": "1oqGWeMQ0jX2"
      }
    },
    {
      "cell_type": "code",
      "source": [
        "import matplotlib.pyplot as plt\n",
        "\n",
        "def plot_metric(history, metric):\n",
        "  train_metrics = history.history[metric]\n",
        "  val_metrics = history.history['val_' + metric]\n",
        "  epochs = range(1, len(train_metrics) + 1)\n",
        "  plt.rcParams[\"figure.figsize\"] = (6,8)\n",
        "  plt.plot(epochs, train_metrics)\n",
        "  plt.plot(epochs, val_metrics)\n",
        "  plt.title('Training and Validation ' + metric)\n",
        "  plt.xlabel(\"Epochs\")\n",
        "  plt.ylabel(metric)\n",
        "  plt.legend([\"train_\" + metric, 'val_' + metric], loc=\"best\")\n",
        "  plt.show()"
      ],
      "metadata": {
        "id": "dJnJMzGBnEQp"
      },
      "execution_count": 25,
      "outputs": []
    },
    {
      "cell_type": "code",
      "source": [
        "plot_metric(history, 'loss')"
      ],
      "metadata": {
        "colab": {
          "base_uri": "https://localhost:8080/",
          "height": 513
        },
        "id": "QvUlmaTsoSUa",
        "outputId": "837689bb-f544-4585-e5a1-9a071987c6b5"
      },
      "execution_count": 26,
      "outputs": [
        {
          "output_type": "display_data",
          "data": {
            "text/plain": [
              "<Figure size 432x576 with 1 Axes>"
            ],
            "image/png": "[encoded data removed]"
          },
          "metadata": {
            "needs_background": "light"
          }
        }
      ]
    },
    {
      "cell_type": "code",
      "source": [
        "plot_metric(history, 'accuracy')"
      ],
      "metadata": {
        "colab": {
          "base_uri": "https://localhost:8080/",
          "height": 513
        },
        "id": "eHfBVDG7oV-p",
        "outputId": "cd88fac5-84ee-40b8-ab77-f0ff8c7e502e"
      },
      "execution_count": 27,
      "outputs": [
        {
          "output_type": "display_data",
          "data": {
            "text/plain": [
              "<Figure size 432x576 with 1 Axes>"
            ],
            "image/png": "[encoded data removed]"
          },
          "metadata": {
            "needs_background": "light"
          }
        }
      ]
    }
  ],
  "metadata": {
    "accelerator": "GPU",
    "colab": {
      "provenance": []
    },
    "gpuClass": "standard",
    "kernelspec": {
      "display_name": "Python 3",
      "name": "python3"
    },
    "language_info": {
      "name": "python"
    }
  },
  "nbformat": 4,
  "nbformat_minor": 0
}